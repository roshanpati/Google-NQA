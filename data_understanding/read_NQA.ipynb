{
 "cells": [
  {
   "cell_type": "code",
   "execution_count": 1,
   "metadata": {},
   "outputs": [],
   "source": [
    "import json\n",
    "import re"
   ]
  },
  {
   "cell_type": "code",
   "execution_count": 64,
   "metadata": {},
   "outputs": [],
   "source": [
    "class NQAExample(object):\n",
    "    \"\"\"\n",
    "    A single training/test example for the NQA dataset.\n",
    "    For examples without an answer, the start and end position are -1.\n",
    "    \"\"\"\n",
    "\n",
    "    def __init__(self,\n",
    "                 qas_id,\n",
    "                 question_text,\n",
    "                 doc_tokens,\n",
    "                 orig_answer_text=None,\n",
    "                 start_position=None,\n",
    "                 end_position=None,\n",
    "                 is_impossible=None):\n",
    "        self.qas_id = qas_id\n",
    "        self.question_text = question_text\n",
    "        self.doc_tokens = doc_tokens\n",
    "        self.orig_answer_text = orig_answer_text\n",
    "        self.start_position = start_position\n",
    "        self.end_position = end_position\n",
    "        self.is_impossible = is_impossible\n",
    "        \n",
    "def read_NQA_examples(input_file):\n",
    "    \"\"\"Read an NQA json file into a list of NQAExample.\"\"\"\n",
    "    data = []\n",
    "    for line in open(input_file, 'r'):\n",
    "        data.append(json.loads(line))\n",
    "\n",
    "    def is_whitespace(c):\n",
    "        if c == \" \" or c == \"\\t\" or c == \"\\r\" or c == \"\\n\" or ord(c) == 0x202F:\n",
    "            return True\n",
    "        return False\n",
    "\n",
    "    def cleanhtml(raw_html):\n",
    "        cleanr = re.compile('<.*?>')\n",
    "        cleantext = re.sub(cleanr, '', raw_html)\n",
    "        return cleantext\n",
    "\n",
    "    examples = []\n",
    "    for entry in data:\n",
    "        qas_id = entry['example_id']\n",
    "        question_text = entry['question_text']\n",
    "        doc_text = entry['document_text']\n",
    "        split_text = doc_text.split(' ')\n",
    "        if entry['annotations'][0]['long_answer']['candidate_index']==-1:\n",
    "            continue\n",
    "        if len(entry['annotations'][0]['short_answers'])==0:\n",
    "            is_impossible=True\n",
    "        else:\n",
    "            is_impossible=False\n",
    "\n",
    "        doc_tokens = doc_text.split(' ')\n",
    "\n",
    "        if not is_impossible:\n",
    "            start_position = entry['annotations'][0]['short_answers'][0]['start_token']\n",
    "            end_position = entry['annotations'][0]['short_answers'][0]['end_token']\n",
    "            assert start_position >= entry['annotations'][0]['long_answer']['start_token'] \\\n",
    "                and end_position <= entry['annotations'][0]['long_answer']['end_token'], qas_id\n",
    "            orig_answer_text = ' '.join([item for item in split_text[start_position:end_position]])\n",
    "\n",
    "        else:\n",
    "            start_position = -1\n",
    "            end_position = -1\n",
    "            orig_answer_text = \"\"\n",
    "\n",
    "        example = NQAExample(\n",
    "            qas_id=qas_id,\n",
    "            question_text=question_text,\n",
    "            doc_tokens=doc_tokens,\n",
    "            orig_answer_text=orig_answer_text,\n",
    "            start_position=start_position,\n",
    "            end_position=end_position,\n",
    "            is_impossible=is_impossible)\n",
    "        examples.append(example)\n",
    "\n",
    "    return examples\n",
    "\n",
    "def print_example(example):\n",
    "    print(\"Question text \", example.question_text)\n",
    "    print(\"Doc tokens \", example.doc_tokens)\n",
    "    print(\"Orig answer \", example.orig_answer_text)\n",
    "    print(\"Constructed answer \", example.doc_tokens[example.start_position:example.end_position])\n",
    "    print(\"Start pos \", example.start_position)\n",
    "    print(\"End pos \", example.end_position)"
   ]
  },
  {
   "cell_type": "code",
   "execution_count": 71,
   "metadata": {},
   "outputs": [],
   "source": [
    "examples = read_NQA_examples('datasets/train_10k.json')"
   ]
  },
  {
   "cell_type": "code",
   "execution_count": 72,
   "metadata": {},
   "outputs": [],
   "source": [
    "# print_example(examples[30])"
   ]
  },
  {
   "cell_type": "code",
   "execution_count": 73,
   "metadata": {},
   "outputs": [
    {
     "data": {
      "text/plain": [
       "4940"
      ]
     },
     "execution_count": 73,
     "metadata": {},
     "output_type": "execute_result"
    }
   ],
   "source": [
    "len(examples)"
   ]
  },
  {
   "cell_type": "code",
   "execution_count": 77,
   "metadata": {},
   "outputs": [],
   "source": [
    "# print_example(examples[0])"
   ]
  },
  {
   "cell_type": "code",
   "execution_count": null,
   "metadata": {},
   "outputs": [],
   "source": []
  },
  {
   "cell_type": "code",
   "execution_count": null,
   "metadata": {},
   "outputs": [],
   "source": []
  }
 ],
 "metadata": {
  "kernelspec": {
   "display_name": "Python 3",
   "language": "python",
   "name": "python3"
  },
  "language_info": {
   "codemirror_mode": {
    "name": "ipython",
    "version": 3
   },
   "file_extension": ".py",
   "mimetype": "text/x-python",
   "name": "python",
   "nbconvert_exporter": "python",
   "pygments_lexer": "ipython3",
   "version": "3.7.3"
  }
 },
 "nbformat": 4,
 "nbformat_minor": 2
}
